{
 "cells": [
  {
   "cell_type": "code",
   "execution_count": 1,
   "metadata": {},
   "outputs": [],
   "source": [
    "import pandas as pd\n",
    "import xlrd \n",
    "import re\n",
    "import nltk\n",
    "from nltk.corpus import stopwords\n",
    "from nltk.stem import WordNetLemmatizer\n",
    "from gensim.models import Word2Vec"
   ]
  },
  {
   "cell_type": "code",
   "execution_count": 2,
   "metadata": {},
   "outputs": [],
   "source": [
    "data = pd.read_excel('/home/pirl/Downloads/document_clustering/combined recalls.xls')"
   ]
  },
  {
   "cell_type": "code",
   "execution_count": 3,
   "metadata": {},
   "outputs": [
    {
     "name": "stdout",
     "output_type": "stream",
     "text": [
      "['the', 'wrong', 'information', 'has', 'been', 'printed', 'on', 'the', 'vehicle', 'product', 'label', 'the', 'vehicles', 'will', 'have', 'a', 'new', 'product', 'label', 'fitted', 'to', 'them', 'with', 'the', 'correct', 'information', 'null', 'null'] "
     ]
    }
   ],
   "source": [
    "# example\n",
    "example = data['txt'][0]\n",
    "\n",
    "# 소문자 대문자 아닌 경우 공백 처리 \n",
    "letters_only = re.sub('[^a-zA-Z]', ' ', example)\n",
    "\n",
    "# 소문자 변환 \n",
    "lower_case = letters_only.lower()  \n",
    "lower_case\n",
    "\n",
    "# list \n",
    "words = lower_case.split()\n",
    "print(words, end = ' ') "
   ]
  },
  {
   "cell_type": "code",
   "execution_count": 4,
   "metadata": {},
   "outputs": [
    {
     "name": "stdout",
     "output_type": "stream",
     "text": [
      "['wrong', 'information', 'printed', 'vehicle', 'product', 'label', 'vehicles', 'new', 'product', 'label', 'fitted', 'correct', 'information', 'null', 'null'] "
     ]
    }
   ],
   "source": [
    "# 불용어 제거 \n",
    "# nltk.download('stopwords') ==> 없다면 다운받아야 \n",
    "stopwords.words('english')[:10]\n",
    "\n",
    "words = [w for w in words if w not in stopwords.words('english')]\n",
    "print(words, end = ' ')"
   ]
  },
  {
   "cell_type": "code",
   "execution_count": 5,
   "metadata": {},
   "outputs": [
    {
     "name": "stdout",
     "output_type": "stream",
     "text": [
      "['wrong', 'information', 'printed', 'vehicle', 'product', 'label', 'vehicle', 'new', 'product', 'label', 'fitted', 'correct', 'information', 'null', 'null'] "
     ]
    }
   ],
   "source": [
    "# 어간 추출\n",
    "# nltk.download('wordnet')\n",
    "wordnet_lemmatizer = WordNetLemmatizer()\n",
    "words = [wordnet_lemmatizer.lemmatize(w) for w in words]\n",
    "print(words, end = ' ')"
   ]
  }
 ],
 "metadata": {
  "kernelspec": {
   "display_name": "PyTorch",
   "language": "python",
   "name": "pytorch"
  },
  "language_info": {
   "codemirror_mode": {
    "name": "ipython",
    "version": 3
   },
   "file_extension": ".py",
   "mimetype": "text/x-python",
   "name": "python",
   "nbconvert_exporter": "python",
   "pygments_lexer": "ipython3",
   "version": "3.6.7"
  }
 },
 "nbformat": 4,
 "nbformat_minor": 2
}
